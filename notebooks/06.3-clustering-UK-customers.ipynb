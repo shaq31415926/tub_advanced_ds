{
 "cells": [
  {
   "cell_type": "code",
   "execution_count": 1,
   "id": "d1fdb469",
   "metadata": {},
   "outputs": [],
   "source": [
    "# import libraries\n",
    "\n",
    "import pandas as pd\n",
    "import matplotlib.pyplot as plt\n",
    "import seaborn as sns\n",
    "from collections import Counter\n",
    "\n",
    "from sklearn.cluster import KMeans\n",
    "from sklearn.preprocessing import StandardScaler"
   ]
  },
  {
   "cell_type": "code",
   "execution_count": 2,
   "id": "c4308395",
   "metadata": {},
   "outputs": [
    {
     "data": {
      "text/html": [
       "<div>\n",
       "<style scoped>\n",
       "    .dataframe tbody tr th:only-of-type {\n",
       "        vertical-align: middle;\n",
       "    }\n",
       "\n",
       "    .dataframe tbody tr th {\n",
       "        vertical-align: top;\n",
       "    }\n",
       "\n",
       "    .dataframe thead th {\n",
       "        text-align: right;\n",
       "    }\n",
       "</style>\n",
       "<table border=\"1\" class=\"dataframe\">\n",
       "  <thead>\n",
       "    <tr style=\"text-align: right;\">\n",
       "      <th></th>\n",
       "      <th>Frequency</th>\n",
       "      <th>Monetary</th>\n",
       "      <th>Recency</th>\n",
       "    </tr>\n",
       "    <tr>\n",
       "      <th>CustomerID</th>\n",
       "      <th></th>\n",
       "      <th></th>\n",
       "      <th></th>\n",
       "    </tr>\n",
       "  </thead>\n",
       "  <tbody>\n",
       "    <tr>\n",
       "      <th>u12346</th>\n",
       "      <td>1</td>\n",
       "      <td>77183.60</td>\n",
       "      <td>325</td>\n",
       "    </tr>\n",
       "    <tr>\n",
       "      <th>u12747</th>\n",
       "      <td>11</td>\n",
       "      <td>3763.01</td>\n",
       "      <td>1</td>\n",
       "    </tr>\n",
       "    <tr>\n",
       "      <th>u12748</th>\n",
       "      <td>202</td>\n",
       "      <td>28308.44</td>\n",
       "      <td>0</td>\n",
       "    </tr>\n",
       "  </tbody>\n",
       "</table>\n",
       "</div>"
      ],
      "text/plain": [
       "            Frequency  Monetary  Recency\n",
       "CustomerID                              \n",
       "u12346              1  77183.60      325\n",
       "u12747             11   3763.01        1\n",
       "u12748            202  28308.44        0"
      ]
     },
     "execution_count": 2,
     "metadata": {},
     "output_type": "execute_result"
    }
   ],
   "source": [
    "# read the data\n",
    "\n",
    "UK_customers_data = pd.read_pickle(\"../data/UK_customers_rfm.pkl\")\n",
    "\n",
    "# preview the data\n",
    "\n",
    "UK_customers_data.head(n = 3)"
   ]
  },
  {
   "cell_type": "code",
   "execution_count": 3,
   "id": "6d884a2f",
   "metadata": {},
   "outputs": [
    {
     "data": {
      "text/html": [
       "<div>\n",
       "<style scoped>\n",
       "    .dataframe tbody tr th:only-of-type {\n",
       "        vertical-align: middle;\n",
       "    }\n",
       "\n",
       "    .dataframe tbody tr th {\n",
       "        vertical-align: top;\n",
       "    }\n",
       "\n",
       "    .dataframe thead th {\n",
       "        text-align: right;\n",
       "    }\n",
       "</style>\n",
       "<table border=\"1\" class=\"dataframe\">\n",
       "  <thead>\n",
       "    <tr style=\"text-align: right;\">\n",
       "      <th></th>\n",
       "      <th>Frequency</th>\n",
       "      <th>Monetary</th>\n",
       "      <th>Recency</th>\n",
       "    </tr>\n",
       "    <tr>\n",
       "      <th>CustomerID</th>\n",
       "      <th></th>\n",
       "      <th></th>\n",
       "      <th></th>\n",
       "    </tr>\n",
       "  </thead>\n",
       "  <tbody>\n",
       "    <tr>\n",
       "      <th>u12346</th>\n",
       "      <td>1</td>\n",
       "      <td>77183.60</td>\n",
       "      <td>325</td>\n",
       "    </tr>\n",
       "    <tr>\n",
       "      <th>u12747</th>\n",
       "      <td>11</td>\n",
       "      <td>3763.01</td>\n",
       "      <td>1</td>\n",
       "    </tr>\n",
       "    <tr>\n",
       "      <th>u12748</th>\n",
       "      <td>202</td>\n",
       "      <td>28308.44</td>\n",
       "      <td>0</td>\n",
       "    </tr>\n",
       "    <tr>\n",
       "      <th>u12749</th>\n",
       "      <td>5</td>\n",
       "      <td>2720.63</td>\n",
       "      <td>3</td>\n",
       "    </tr>\n",
       "    <tr>\n",
       "      <th>u1282</th>\n",
       "      <td>4</td>\n",
       "      <td>942.34</td>\n",
       "      <td>2</td>\n",
       "    </tr>\n",
       "  </tbody>\n",
       "</table>\n",
       "</div>"
      ],
      "text/plain": [
       "            Frequency  Monetary  Recency\n",
       "CustomerID                              \n",
       "u12346              1  77183.60      325\n",
       "u12747             11   3763.01        1\n",
       "u12748            202  28308.44        0\n",
       "u12749              5   2720.63        3\n",
       "u1282               4    942.34        2"
      ]
     },
     "execution_count": 3,
     "metadata": {},
     "output_type": "execute_result"
    }
   ],
   "source": [
    "# check shape\n",
    "\n",
    "UK_customers_data.head()"
   ]
  },
  {
   "cell_type": "code",
   "execution_count": 3,
   "id": "90ec63ee",
   "metadata": {},
   "outputs": [
    {
     "name": "stdout",
     "output_type": "stream",
     "text": [
      "<class 'pandas.core.frame.DataFrame'>\n",
      "Index: 3891 entries, u12346 to u18287\n",
      "Data columns (total 3 columns):\n",
      " #   Column     Non-Null Count  Dtype  \n",
      "---  ------     --------------  -----  \n",
      " 0   Frequency  3891 non-null   int64  \n",
      " 1   Monetary   3891 non-null   float64\n",
      " 2   Recency    3891 non-null   int64  \n",
      "dtypes: float64(1), int64(2)\n",
      "memory usage: 121.6+ KB\n"
     ]
    }
   ],
   "source": [
    "# check structure of data\n",
    "\n",
    "UK_customers_data.info()\n"
   ]
  },
  {
   "cell_type": "code",
   "execution_count": 4,
   "id": "6e6c35a6",
   "metadata": {},
   "outputs": [
    {
     "data": {
      "text/plain": [
       "Frequency    0\n",
       "Monetary     0\n",
       "Recency      0\n",
       "dtype: int64"
      ]
     },
     "execution_count": 4,
     "metadata": {},
     "output_type": "execute_result"
    }
   ],
   "source": [
    "# check for missing data\n",
    "\n",
    "UK_customers_data.isnull().sum()\n",
    "\n",
    "# we have no categorical data, no missing data, no feature engineering required at this stage"
   ]
  },
  {
   "cell_type": "code",
   "execution_count": 5,
   "id": "cfdcade8",
   "metadata": {},
   "outputs": [
    {
     "name": "stdout",
     "output_type": "stream",
     "text": [
      "# of duplicated rows of data: 2\n"
     ]
    }
   ],
   "source": [
    "# let's check for duplicates\n",
    "\n",
    "print(\"# of duplicated rows of data:\", \n",
    "      UK_customers_data[UK_customers_data.duplicated(keep = False)].shape[0])\n"
   ]
  },
  {
   "cell_type": "code",
   "execution_count": 6,
   "id": "c0eee02e",
   "metadata": {},
   "outputs": [
    {
     "data": {
      "text/html": [
       "<div>\n",
       "<style scoped>\n",
       "    .dataframe tbody tr th:only-of-type {\n",
       "        vertical-align: middle;\n",
       "    }\n",
       "\n",
       "    .dataframe tbody tr th {\n",
       "        vertical-align: top;\n",
       "    }\n",
       "\n",
       "    .dataframe thead th {\n",
       "        text-align: right;\n",
       "    }\n",
       "</style>\n",
       "<table border=\"1\" class=\"dataframe\">\n",
       "  <thead>\n",
       "    <tr style=\"text-align: right;\">\n",
       "      <th></th>\n",
       "      <th>Frequency</th>\n",
       "      <th>Monetary</th>\n",
       "      <th>Recency</th>\n",
       "    </tr>\n",
       "    <tr>\n",
       "      <th>CustomerID</th>\n",
       "      <th></th>\n",
       "      <th></th>\n",
       "      <th></th>\n",
       "    </tr>\n",
       "  </thead>\n",
       "  <tbody>\n",
       "    <tr>\n",
       "      <th>u16406</th>\n",
       "      <td>1</td>\n",
       "      <td>155.12</td>\n",
       "      <td>18</td>\n",
       "    </tr>\n",
       "    <tr>\n",
       "      <th>u17561</th>\n",
       "      <td>1</td>\n",
       "      <td>155.12</td>\n",
       "      <td>18</td>\n",
       "    </tr>\n",
       "  </tbody>\n",
       "</table>\n",
       "</div>"
      ],
      "text/plain": [
       "            Frequency  Monetary  Recency\n",
       "CustomerID                              \n",
       "u16406              1    155.12       18\n",
       "u17561              1    155.12       18"
      ]
     },
     "execution_count": 6,
     "metadata": {},
     "output_type": "execute_result"
    }
   ],
   "source": [
    "# look at duplicated values\n",
    "\n",
    "UK_customers_data[UK_customers_data.duplicated(keep = False)]\n"
   ]
  },
  {
   "cell_type": "code",
   "execution_count": 7,
   "id": "d4e6809c",
   "metadata": {},
   "outputs": [
    {
     "name": "stdout",
     "output_type": "stream",
     "text": [
      "shape of cleaned data: (3890, 3)\n"
     ]
    }
   ],
   "source": [
    "# we can either drop all duplicated data, or keep the first or last row\n",
    "\n",
    "\n",
    "UK_customers_data_cleaned = UK_customers_data[~UK_customers_data.duplicated(keep = 'first')]\n",
    "print(\"shape of cleaned data:\", UK_customers_data_cleaned.shape)\n"
   ]
  },
  {
   "cell_type": "code",
   "execution_count": 8,
   "id": "773cc053",
   "metadata": {
    "scrolled": true
   },
   "outputs": [
    {
     "data": {
      "text/html": [
       "<div>\n",
       "<style scoped>\n",
       "    .dataframe tbody tr th:only-of-type {\n",
       "        vertical-align: middle;\n",
       "    }\n",
       "\n",
       "    .dataframe tbody tr th {\n",
       "        vertical-align: top;\n",
       "    }\n",
       "\n",
       "    .dataframe thead th {\n",
       "        text-align: right;\n",
       "    }\n",
       "</style>\n",
       "<table border=\"1\" class=\"dataframe\">\n",
       "  <thead>\n",
       "    <tr style=\"text-align: right;\">\n",
       "      <th></th>\n",
       "      <th>Frequency</th>\n",
       "      <th>Monetary</th>\n",
       "      <th>Recency</th>\n",
       "    </tr>\n",
       "  </thead>\n",
       "  <tbody>\n",
       "    <tr>\n",
       "      <th>count</th>\n",
       "      <td>3890.000000</td>\n",
       "      <td>3890.000000</td>\n",
       "      <td>3890.000000</td>\n",
       "    </tr>\n",
       "    <tr>\n",
       "      <th>mean</th>\n",
       "      <td>4.193830</td>\n",
       "      <td>1625.729674</td>\n",
       "      <td>90.887661</td>\n",
       "    </tr>\n",
       "    <tr>\n",
       "      <th>std</th>\n",
       "      <td>7.045783</td>\n",
       "      <td>6745.629029</td>\n",
       "      <td>99.399720</td>\n",
       "    </tr>\n",
       "    <tr>\n",
       "      <th>min</th>\n",
       "      <td>1.000000</td>\n",
       "      <td>0.000000</td>\n",
       "      <td>0.000000</td>\n",
       "    </tr>\n",
       "    <tr>\n",
       "      <th>25%</th>\n",
       "      <td>1.000000</td>\n",
       "      <td>243.515000</td>\n",
       "      <td>17.000000</td>\n",
       "    </tr>\n",
       "    <tr>\n",
       "      <th>50%</th>\n",
       "      <td>2.000000</td>\n",
       "      <td>548.570000</td>\n",
       "      <td>49.500000</td>\n",
       "    </tr>\n",
       "    <tr>\n",
       "      <th>75%</th>\n",
       "      <td>5.000000</td>\n",
       "      <td>1369.762500</td>\n",
       "      <td>140.750000</td>\n",
       "    </tr>\n",
       "    <tr>\n",
       "      <th>max</th>\n",
       "      <td>202.000000</td>\n",
       "      <td>221190.810000</td>\n",
       "      <td>373.000000</td>\n",
       "    </tr>\n",
       "  </tbody>\n",
       "</table>\n",
       "</div>"
      ],
      "text/plain": [
       "         Frequency       Monetary      Recency\n",
       "count  3890.000000    3890.000000  3890.000000\n",
       "mean      4.193830    1625.729674    90.887661\n",
       "std       7.045783    6745.629029    99.399720\n",
       "min       1.000000       0.000000     0.000000\n",
       "25%       1.000000     243.515000    17.000000\n",
       "50%       2.000000     548.570000    49.500000\n",
       "75%       5.000000    1369.762500   140.750000\n",
       "max     202.000000  221190.810000   373.000000"
      ]
     },
     "execution_count": 8,
     "metadata": {},
     "output_type": "execute_result"
    }
   ],
   "source": [
    "# do some exploratory work - look at distribution of the data\n",
    "\n",
    "UK_customers_data_cleaned.describe()\n",
    "\n",
    "# monetary in a different scale than frequency and recency"
   ]
  },
  {
   "cell_type": "code",
   "execution_count": 9,
   "id": "932c33f2",
   "metadata": {},
   "outputs": [
    {
     "name": "stdout",
     "output_type": "stream",
     "text": [
      "New std deviation: 1.0\n",
      "New mean: 0\n"
     ]
    }
   ],
   "source": [
    "# cluster the customer data\n",
    "\n",
    "# step 1: scale the data\n",
    "\n",
    "scaler = StandardScaler()\n",
    "\n",
    "scaler.fit(UK_customers_data_cleaned)\n",
    "\n",
    "UK_customers_scaled = scaler.transform(UK_customers_data_cleaned)\n",
    "print('New std deviation:', UK_customers_scaled.std())\n",
    "print('New mean:', round(UK_customers_scaled.mean()))\n",
    "\n",
    "# normalized data has a mean of 0 and std of 1"
   ]
  },
  {
   "cell_type": "code",
   "execution_count": 18,
   "id": "715c7e89",
   "metadata": {},
   "outputs": [
    {
     "data": {
      "text/plain": [
       "array([[-4.53354998e-01,  1.12024518e+01,  2.35556434e+00],\n",
       "       [ 9.66116141e-01,  3.16880025e-01, -9.04421221e-01],\n",
       "       [ 2.80780149e+01,  3.95606407e+00, -9.14482905e-01],\n",
       "       ...,\n",
       "       [-3.11407884e-01, -2.22199047e-01, -8.44051119e-01],\n",
       "       [ 1.67585171e+00,  6.23150721e-02, -8.84297854e-01],\n",
       "       [-1.69460770e-01,  2.63241798e-02, -4.91892185e-01]])"
      ]
     },
     "execution_count": 18,
     "metadata": {},
     "output_type": "execute_result"
    }
   ],
   "source": [
    "UK_customers_scaled"
   ]
  },
  {
   "cell_type": "code",
   "execution_count": 10,
   "id": "5c617a47",
   "metadata": {},
   "outputs": [],
   "source": [
    "# step 2: identify optimal number of clusters we want to segment the data\n",
    "\n",
    "def optimal_number_clusters(data_scaled):\n",
    "    \"\"\"\n",
    "    Calculates optimal number of clusted based on Elbow Method\n",
    "    \n",
    "    parameters: scaled data\n",
    "    \"\"\"\n",
    "    Sum_of_squared_distances = []\n",
    "    K = range(1, 30) # define the range of clusters we would like to cluster the data into\n",
    "\n",
    "    for k in K:\n",
    "        km = KMeans(n_clusters = k)\n",
    "        km = km.fit(data_scaled)\n",
    "        Sum_of_squared_distances.append(km.inertia_)\n",
    "\n",
    "    plt.figure(figsize=(20,6))\n",
    "\n",
    "    plt.plot(K, Sum_of_squared_distances, 'bx-')\n",
    "    plt.xlabel('k')\n",
    "    plt.ylabel('Sum_of_squared_distances')\n",
    "    plt.title('Elbow Method For Optimal k')\n",
    "    plt.show()"
   ]
  },
  {
   "cell_type": "code",
   "execution_count": 11,
   "id": "c81590b7",
   "metadata": {},
   "outputs": [
    {
     "data": {
      "image/png": "[encoded data removed]",
      "text/plain": [
       "<Figure size 1440x432 with 1 Axes>"
      ]
     },
     "metadata": {
      "needs_background": "light"
     },
     "output_type": "display_data"
    }
   ],
   "source": [
    "optimal_number_clusters(UK_customers_scaled)\n",
    "\n",
    "# Question: Where is the elbow forming? Or where we are we saying the least amount of change\n",
    "# identifying clusters: https://medium.com/analytics-vidhya/how-to-determine-the-optimal-k-for-k-means-708505d204eb"
   ]
  },
  {
   "cell_type": "code",
   "execution_count": 12,
   "id": "7dfa1a3f",
   "metadata": {},
   "outputs": [
    {
     "data": {
      "text/plain": [
       "KMeans(n_clusters=4, random_state=10)"
      ]
     },
     "execution_count": 12,
     "metadata": {},
     "output_type": "execute_result"
    }
   ],
   "source": [
    "# THE MACHINE LEARNING ALGORITHM\n",
    "\n",
    "n_clusters = 4 # define the number of clusters, where the elbow if formed\n",
    "\n",
    "kmeans = KMeans(n_clusters = n_clusters, random_state = 10) # initialize the k-means function\n",
    "kmeans.fit(UK_customers_scaled) # fit to the summary scaled data"
   ]
  },
  {
   "cell_type": "code",
   "execution_count": 13,
   "id": "f42564eb",
   "metadata": {},
   "outputs": [],
   "source": [
    "# predict the clusters for the users\n",
    "\n",
    "y_kmeans = kmeans.predict(UK_customers_scaled)\n",
    "\n",
    "# or y_kmeans = kmeans.labels_"
   ]
  },
  {
   "cell_type": "code",
   "execution_count": 14,
   "id": "ca484f5e",
   "metadata": {},
   "outputs": [
    {
     "data": {
      "text/plain": [
       "array([3, 1, 3, ..., 1, 1, 1], dtype=int32)"
      ]
     },
     "execution_count": 14,
     "metadata": {},
     "output_type": "execute_result"
    }
   ],
   "source": [
    "y_kmeans"
   ]
  },
  {
   "cell_type": "code",
   "execution_count": 15,
   "id": "c1c6e446",
   "metadata": {},
   "outputs": [
    {
     "data": {
      "image/png": "[encoded data removed]",
      "text/plain": [
       "<Figure size 432x288 with 1 Axes>"
      ]
     },
     "metadata": {
      "needs_background": "light"
     },
     "output_type": "display_data"
    }
   ],
   "source": [
    "# check the distribution of the clusters\n",
    "\n",
    "pd.DataFrame(Counter(y_kmeans).most_common()).set_index(0).plot.bar(legend=None)\n",
    "plt.title('Distribution of Clusters')\n",
    "plt.xlabel('Cluster ID')\n",
    "plt.ylabel('# of users belonging to the cluster');\n",
    "\n",
    "# results dont look amazing, might need to do some outlier removal or remove scaling.\n",
    "# However, will evaluate this in more detail before defining steps."
   ]
  },
  {
   "cell_type": "code",
   "execution_count": 16,
   "id": "ae951a9f",
   "metadata": {},
   "outputs": [
    {
     "name": "stdout",
     "output_type": "stream",
     "text": [
      "The centroids for the clusters\n"
     ]
    },
    {
     "data": {
      "text/html": [
       "<div>\n",
       "<style scoped>\n",
       "    .dataframe tbody tr th:only-of-type {\n",
       "        vertical-align: middle;\n",
       "    }\n",
       "\n",
       "    .dataframe tbody tr th {\n",
       "        vertical-align: top;\n",
       "    }\n",
       "\n",
       "    .dataframe thead th {\n",
       "        text-align: right;\n",
       "    }\n",
       "</style>\n",
       "<table border=\"1\" class=\"dataframe\">\n",
       "  <thead>\n",
       "    <tr style=\"text-align: right;\">\n",
       "      <th></th>\n",
       "      <th>Frequency</th>\n",
       "      <th>Monetary</th>\n",
       "      <th>Recency</th>\n",
       "    </tr>\n",
       "  </thead>\n",
       "  <tbody>\n",
       "    <tr>\n",
       "      <th>0</th>\n",
       "      <td>-0.371429</td>\n",
       "      <td>-0.185888</td>\n",
       "      <td>1.540123</td>\n",
       "    </tr>\n",
       "    <tr>\n",
       "      <th>1</th>\n",
       "      <td>0.015876</td>\n",
       "      <td>-0.040260</td>\n",
       "      <td>-0.507281</td>\n",
       "    </tr>\n",
       "    <tr>\n",
       "      <th>2</th>\n",
       "      <td>4.183584</td>\n",
       "      <td>27.956844</td>\n",
       "      <td>-0.891006</td>\n",
       "    </tr>\n",
       "    <tr>\n",
       "      <th>3</th>\n",
       "      <td>5.137918</td>\n",
       "      <td>3.589731</td>\n",
       "      <td>-0.771743</td>\n",
       "    </tr>\n",
       "  </tbody>\n",
       "</table>\n",
       "</div>"
      ],
      "text/plain": [
       "   Frequency   Monetary   Recency\n",
       "0  -0.371429  -0.185888  1.540123\n",
       "1   0.015876  -0.040260 -0.507281\n",
       "2   4.183584  27.956844 -0.891006\n",
       "3   5.137918   3.589731 -0.771743"
      ]
     },
     "execution_count": 16,
     "metadata": {},
     "output_type": "execute_result"
    }
   ],
   "source": [
    "print(\"The centroids for the clusters\")\n",
    "\n",
    "pd.DataFrame(kmeans.cluster_centers_, columns = UK_customers_data_cleaned.columns)\n"
   ]
  },
  {
   "cell_type": "code",
   "execution_count": 17,
   "id": "e040ea95",
   "metadata": {},
   "outputs": [
    {
     "data": {
      "text/html": [
       "<div>\n",
       "<style scoped>\n",
       "    .dataframe tbody tr th:only-of-type {\n",
       "        vertical-align: middle;\n",
       "    }\n",
       "\n",
       "    .dataframe tbody tr th {\n",
       "        vertical-align: top;\n",
       "    }\n",
       "\n",
       "    .dataframe thead th {\n",
       "        text-align: right;\n",
       "    }\n",
       "</style>\n",
       "<table border=\"1\" class=\"dataframe\">\n",
       "  <thead>\n",
       "    <tr style=\"text-align: right;\">\n",
       "      <th></th>\n",
       "      <th>Frequency</th>\n",
       "      <th>Monetary</th>\n",
       "      <th>Recency</th>\n",
       "      <th>cluster</th>\n",
       "    </tr>\n",
       "    <tr>\n",
       "      <th>CustomerID</th>\n",
       "      <th></th>\n",
       "      <th></th>\n",
       "      <th></th>\n",
       "      <th></th>\n",
       "    </tr>\n",
       "  </thead>\n",
       "  <tbody>\n",
       "    <tr>\n",
       "      <th>u12346</th>\n",
       "      <td>1</td>\n",
       "      <td>77183.60</td>\n",
       "      <td>325</td>\n",
       "      <td>3</td>\n",
       "    </tr>\n",
       "    <tr>\n",
       "      <th>u12747</th>\n",
       "      <td>11</td>\n",
       "      <td>3763.01</td>\n",
       "      <td>1</td>\n",
       "      <td>1</td>\n",
       "    </tr>\n",
       "    <tr>\n",
       "      <th>u12748</th>\n",
       "      <td>202</td>\n",
       "      <td>28308.44</td>\n",
       "      <td>0</td>\n",
       "      <td>3</td>\n",
       "    </tr>\n",
       "    <tr>\n",
       "      <th>u12749</th>\n",
       "      <td>5</td>\n",
       "      <td>2720.63</td>\n",
       "      <td>3</td>\n",
       "      <td>1</td>\n",
       "    </tr>\n",
       "    <tr>\n",
       "      <th>u1282</th>\n",
       "      <td>4</td>\n",
       "      <td>942.34</td>\n",
       "      <td>2</td>\n",
       "      <td>1</td>\n",
       "    </tr>\n",
       "  </tbody>\n",
       "</table>\n",
       "</div>"
      ],
      "text/plain": [
       "            Frequency  Monetary  Recency  cluster\n",
       "CustomerID                                       \n",
       "u12346              1  77183.60      325        3\n",
       "u12747             11   3763.01        1        1\n",
       "u12748            202  28308.44        0        3\n",
       "u12749              5   2720.63        3        1\n",
       "u1282               4    942.34        2        1"
      ]
     },
     "execution_count": 17,
     "metadata": {},
     "output_type": "execute_result"
    }
   ],
   "source": [
    "# join this to our data frame\n",
    "\n",
    "results = pd.DataFrame(UK_customers_data_cleaned.copy())\n",
    "results.insert(3, 'cluster', y_kmeans)\n",
    "results.head()\n",
    "\n",
    "# the customers and their assigned clusters"
   ]
  },
  {
   "cell_type": "code",
   "execution_count": 24,
   "id": "374d92db",
   "metadata": {},
   "outputs": [
    {
     "data": {
      "text/plain": [
       "1    2856\n",
       "0     972\n",
       "3      59\n",
       "2       3\n",
       "Name: cluster, dtype: int64"
      ]
     },
     "execution_count": 24,
     "metadata": {},
     "output_type": "execute_result"
    }
   ],
   "source": [
    "results.cluster.value_counts()"
   ]
  },
  {
   "cell_type": "code",
   "execution_count": 25,
   "id": "20caf7af",
   "metadata": {},
   "outputs": [
    {
     "data": {
      "text/html": [
       "<div>\n",
       "<style scoped>\n",
       "    .dataframe tbody tr th:only-of-type {\n",
       "        vertical-align: middle;\n",
       "    }\n",
       "\n",
       "    .dataframe tbody tr th {\n",
       "        vertical-align: top;\n",
       "    }\n",
       "\n",
       "    .dataframe thead th {\n",
       "        text-align: right;\n",
       "    }\n",
       "</style>\n",
       "<table border=\"1\" class=\"dataframe\">\n",
       "  <thead>\n",
       "    <tr style=\"text-align: right;\">\n",
       "      <th></th>\n",
       "      <th>Frequency</th>\n",
       "      <th>Monetary</th>\n",
       "      <th>Recency</th>\n",
       "      <th>cluster</th>\n",
       "    </tr>\n",
       "  </thead>\n",
       "  <tbody>\n",
       "    <tr>\n",
       "      <th>count</th>\n",
       "      <td>3.000000</td>\n",
       "      <td>3.000000</td>\n",
       "      <td>3.000000</td>\n",
       "      <td>3.0</td>\n",
       "    </tr>\n",
       "    <tr>\n",
       "      <th>mean</th>\n",
       "      <td>33.666667</td>\n",
       "      <td>190187.986667</td>\n",
       "      <td>2.333333</td>\n",
       "      <td>2.0</td>\n",
       "    </tr>\n",
       "    <tr>\n",
       "      <th>std</th>\n",
       "      <td>28.183920</td>\n",
       "      <td>27558.955334</td>\n",
       "      <td>4.041452</td>\n",
       "      <td>0.0</td>\n",
       "    </tr>\n",
       "    <tr>\n",
       "      <th>min</th>\n",
       "      <td>2.000000</td>\n",
       "      <td>168472.500000</td>\n",
       "      <td>0.000000</td>\n",
       "      <td>2.0</td>\n",
       "    </tr>\n",
       "    <tr>\n",
       "      <th>25%</th>\n",
       "      <td>22.500000</td>\n",
       "      <td>174686.575000</td>\n",
       "      <td>0.000000</td>\n",
       "      <td>2.0</td>\n",
       "    </tr>\n",
       "    <tr>\n",
       "      <th>50%</th>\n",
       "      <td>43.000000</td>\n",
       "      <td>180900.650000</td>\n",
       "      <td>0.000000</td>\n",
       "      <td>2.0</td>\n",
       "    </tr>\n",
       "    <tr>\n",
       "      <th>75%</th>\n",
       "      <td>49.500000</td>\n",
       "      <td>201045.730000</td>\n",
       "      <td>3.500000</td>\n",
       "      <td>2.0</td>\n",
       "    </tr>\n",
       "    <tr>\n",
       "      <th>max</th>\n",
       "      <td>56.000000</td>\n",
       "      <td>221190.810000</td>\n",
       "      <td>7.000000</td>\n",
       "      <td>2.0</td>\n",
       "    </tr>\n",
       "  </tbody>\n",
       "</table>\n",
       "</div>"
      ],
      "text/plain": [
       "       Frequency       Monetary   Recency  cluster\n",
       "count   3.000000       3.000000  3.000000      3.0\n",
       "mean   33.666667  190187.986667  2.333333      2.0\n",
       "std    28.183920   27558.955334  4.041452      0.0\n",
       "min     2.000000  168472.500000  0.000000      2.0\n",
       "25%    22.500000  174686.575000  0.000000      2.0\n",
       "50%    43.000000  180900.650000  0.000000      2.0\n",
       "75%    49.500000  201045.730000  3.500000      2.0\n",
       "max    56.000000  221190.810000  7.000000      2.0"
      ]
     },
     "execution_count": 25,
     "metadata": {},
     "output_type": "execute_result"
    }
   ],
   "source": [
    "# evaluate the clusters\n",
    "# What does the smallest group look like\n",
    "\n",
    "results[results.cluster == 2].describe()\n",
    "\n",
    "# could be a bulk order customer - high volumes, high amounts"
   ]
  },
  {
   "cell_type": "code",
   "execution_count": 26,
   "id": "2966069b",
   "metadata": {},
   "outputs": [
    {
     "data": {
      "text/html": [
       "<div>\n",
       "<style scoped>\n",
       "    .dataframe tbody tr th:only-of-type {\n",
       "        vertical-align: middle;\n",
       "    }\n",
       "\n",
       "    .dataframe tbody tr th {\n",
       "        vertical-align: top;\n",
       "    }\n",
       "\n",
       "    .dataframe thead th {\n",
       "        text-align: right;\n",
       "    }\n",
       "</style>\n",
       "<table border=\"1\" class=\"dataframe\">\n",
       "  <thead>\n",
       "    <tr style=\"text-align: right;\">\n",
       "      <th></th>\n",
       "      <th>Frequency</th>\n",
       "      <th>Monetary</th>\n",
       "      <th>Recency</th>\n",
       "      <th>cluster</th>\n",
       "    </tr>\n",
       "  </thead>\n",
       "  <tbody>\n",
       "    <tr>\n",
       "      <th>count</th>\n",
       "      <td>2856.000000</td>\n",
       "      <td>2856.000000</td>\n",
       "      <td>2856.000000</td>\n",
       "      <td>2856.0</td>\n",
       "    </tr>\n",
       "    <tr>\n",
       "      <th>mean</th>\n",
       "      <td>4.305672</td>\n",
       "      <td>1354.188478</td>\n",
       "      <td>40.470588</td>\n",
       "      <td>1.0</td>\n",
       "    </tr>\n",
       "    <tr>\n",
       "      <th>std</th>\n",
       "      <td>4.120690</td>\n",
       "      <td>1779.863791</td>\n",
       "      <td>35.104565</td>\n",
       "      <td>0.0</td>\n",
       "    </tr>\n",
       "    <tr>\n",
       "      <th>min</th>\n",
       "      <td>1.000000</td>\n",
       "      <td>0.000000</td>\n",
       "      <td>0.000000</td>\n",
       "      <td>1.0</td>\n",
       "    </tr>\n",
       "    <tr>\n",
       "      <th>25%</th>\n",
       "      <td>2.000000</td>\n",
       "      <td>328.952500</td>\n",
       "      <td>12.000000</td>\n",
       "      <td>1.0</td>\n",
       "    </tr>\n",
       "    <tr>\n",
       "      <th>50%</th>\n",
       "      <td>3.000000</td>\n",
       "      <td>736.550000</td>\n",
       "      <td>30.000000</td>\n",
       "      <td>1.0</td>\n",
       "    </tr>\n",
       "    <tr>\n",
       "      <th>75%</th>\n",
       "      <td>5.000000</td>\n",
       "      <td>1702.092500</td>\n",
       "      <td>63.000000</td>\n",
       "      <td>1.0</td>\n",
       "    </tr>\n",
       "    <tr>\n",
       "      <th>max</th>\n",
       "      <td>28.000000</td>\n",
       "      <td>25755.330000</td>\n",
       "      <td>162.000000</td>\n",
       "      <td>1.0</td>\n",
       "    </tr>\n",
       "  </tbody>\n",
       "</table>\n",
       "</div>"
      ],
      "text/plain": [
       "         Frequency      Monetary      Recency  cluster\n",
       "count  2856.000000   2856.000000  2856.000000   2856.0\n",
       "mean      4.305672   1354.188478    40.470588      1.0\n",
       "std       4.120690   1779.863791    35.104565      0.0\n",
       "min       1.000000      0.000000     0.000000      1.0\n",
       "25%       2.000000    328.952500    12.000000      1.0\n",
       "50%       3.000000    736.550000    30.000000      1.0\n",
       "75%       5.000000   1702.092500    63.000000      1.0\n",
       "max      28.000000  25755.330000   162.000000      1.0"
      ]
     },
     "execution_count": 26,
     "metadata": {},
     "output_type": "execute_result"
    }
   ],
   "source": [
    "# what does largest largest group look like\n",
    "\n",
    "results[results.cluster == 1].describe()\n",
    "\n",
    "# on average spend 1.3k, and 4 purchases\n"
   ]
  },
  {
   "cell_type": "code",
   "execution_count": 27,
   "id": "f3b9098d",
   "metadata": {},
   "outputs": [
    {
     "data": {
      "text/html": [
       "<div>\n",
       "<style scoped>\n",
       "    .dataframe tbody tr th:only-of-type {\n",
       "        vertical-align: middle;\n",
       "    }\n",
       "\n",
       "    .dataframe tbody tr th {\n",
       "        vertical-align: top;\n",
       "    }\n",
       "\n",
       "    .dataframe thead th {\n",
       "        text-align: right;\n",
       "    }\n",
       "</style>\n",
       "<table border=\"1\" class=\"dataframe\">\n",
       "  <thead>\n",
       "    <tr style=\"text-align: right;\">\n",
       "      <th></th>\n",
       "      <th>Frequency</th>\n",
       "      <th>Monetary</th>\n",
       "      <th>Recency</th>\n",
       "      <th>cluster</th>\n",
       "    </tr>\n",
       "  </thead>\n",
       "  <tbody>\n",
       "    <tr>\n",
       "      <th>count</th>\n",
       "      <td>972.000000</td>\n",
       "      <td>972.000000</td>\n",
       "      <td>972.000000</td>\n",
       "      <td>972.0</td>\n",
       "    </tr>\n",
       "    <tr>\n",
       "      <th>mean</th>\n",
       "      <td>1.577160</td>\n",
       "      <td>371.958087</td>\n",
       "      <td>243.955761</td>\n",
       "      <td>0.0</td>\n",
       "    </tr>\n",
       "    <tr>\n",
       "      <th>std</th>\n",
       "      <td>1.500845</td>\n",
       "      <td>481.597320</td>\n",
       "      <td>66.927810</td>\n",
       "      <td>0.0</td>\n",
       "    </tr>\n",
       "    <tr>\n",
       "      <th>min</th>\n",
       "      <td>1.000000</td>\n",
       "      <td>4.250000</td>\n",
       "      <td>137.000000</td>\n",
       "      <td>0.0</td>\n",
       "    </tr>\n",
       "    <tr>\n",
       "      <th>25%</th>\n",
       "      <td>1.000000</td>\n",
       "      <td>136.575000</td>\n",
       "      <td>185.750000</td>\n",
       "      <td>0.0</td>\n",
       "    </tr>\n",
       "    <tr>\n",
       "      <th>50%</th>\n",
       "      <td>1.000000</td>\n",
       "      <td>244.105000</td>\n",
       "      <td>239.000000</td>\n",
       "      <td>0.0</td>\n",
       "    </tr>\n",
       "    <tr>\n",
       "      <th>75%</th>\n",
       "      <td>2.000000</td>\n",
       "      <td>405.570000</td>\n",
       "      <td>295.000000</td>\n",
       "      <td>0.0</td>\n",
       "    </tr>\n",
       "    <tr>\n",
       "      <th>max</th>\n",
       "      <td>34.000000</td>\n",
       "      <td>6667.670000</td>\n",
       "      <td>373.000000</td>\n",
       "      <td>0.0</td>\n",
       "    </tr>\n",
       "  </tbody>\n",
       "</table>\n",
       "</div>"
      ],
      "text/plain": [
       "        Frequency     Monetary     Recency  cluster\n",
       "count  972.000000   972.000000  972.000000    972.0\n",
       "mean     1.577160   371.958087  243.955761      0.0\n",
       "std      1.500845   481.597320   66.927810      0.0\n",
       "min      1.000000     4.250000  137.000000      0.0\n",
       "25%      1.000000   136.575000  185.750000      0.0\n",
       "50%      1.000000   244.105000  239.000000      0.0\n",
       "75%      2.000000   405.570000  295.000000      0.0\n",
       "max     34.000000  6667.670000  373.000000      0.0"
      ]
     },
     "execution_count": 27,
     "metadata": {},
     "output_type": "execute_result"
    }
   ],
   "source": [
    "# what does group 0 look like\n",
    "\n",
    "results[results.cluster == 0].describe()\n",
    "\n",
    "# on average spend 300 and around 1 to 2 orders. This is our lowest value customer group.\n"
   ]
  },
  {
   "cell_type": "code",
   "execution_count": 28,
   "id": "44c7d6d3",
   "metadata": {},
   "outputs": [
    {
     "data": {
      "text/html": [
       "<div>\n",
       "<style scoped>\n",
       "    .dataframe tbody tr th:only-of-type {\n",
       "        vertical-align: middle;\n",
       "    }\n",
       "\n",
       "    .dataframe tbody tr th {\n",
       "        vertical-align: top;\n",
       "    }\n",
       "\n",
       "    .dataframe thead th {\n",
       "        text-align: right;\n",
       "    }\n",
       "</style>\n",
       "<table border=\"1\" class=\"dataframe\">\n",
       "  <thead>\n",
       "    <tr style=\"text-align: right;\">\n",
       "      <th></th>\n",
       "      <th>Frequency</th>\n",
       "      <th>Monetary</th>\n",
       "      <th>Recency</th>\n",
       "      <th>cluster</th>\n",
       "    </tr>\n",
       "  </thead>\n",
       "  <tbody>\n",
       "    <tr>\n",
       "      <th>count</th>\n",
       "      <td>59.000000</td>\n",
       "      <td>59.000000</td>\n",
       "      <td>59.000000</td>\n",
       "      <td>59.0</td>\n",
       "    </tr>\n",
       "    <tr>\n",
       "      <th>mean</th>\n",
       "      <td>40.389831</td>\n",
       "      <td>25837.608814</td>\n",
       "      <td>14.186441</td>\n",
       "      <td>3.0</td>\n",
       "    </tr>\n",
       "    <tr>\n",
       "      <th>std</th>\n",
       "      <td>30.572704</td>\n",
       "      <td>19992.315417</td>\n",
       "      <td>51.308558</td>\n",
       "      <td>0.0</td>\n",
       "    </tr>\n",
       "    <tr>\n",
       "      <th>min</th>\n",
       "      <td>1.000000</td>\n",
       "      <td>856.980000</td>\n",
       "      <td>0.000000</td>\n",
       "      <td>3.0</td>\n",
       "    </tr>\n",
       "    <tr>\n",
       "      <th>25%</th>\n",
       "      <td>26.500000</td>\n",
       "      <td>11191.620000</td>\n",
       "      <td>1.000000</td>\n",
       "      <td>3.0</td>\n",
       "    </tr>\n",
       "    <tr>\n",
       "      <th>50%</th>\n",
       "      <td>31.000000</td>\n",
       "      <td>17501.540000</td>\n",
       "      <td>3.000000</td>\n",
       "      <td>3.0</td>\n",
       "    </tr>\n",
       "    <tr>\n",
       "      <th>75%</th>\n",
       "      <td>44.500000</td>\n",
       "      <td>35797.575000</td>\n",
       "      <td>7.500000</td>\n",
       "      <td>3.0</td>\n",
       "    </tr>\n",
       "    <tr>\n",
       "      <th>max</th>\n",
       "      <td>202.000000</td>\n",
       "      <td>85922.000000</td>\n",
       "      <td>325.000000</td>\n",
       "      <td>3.0</td>\n",
       "    </tr>\n",
       "  </tbody>\n",
       "</table>\n",
       "</div>"
      ],
      "text/plain": [
       "        Frequency      Monetary     Recency  cluster\n",
       "count   59.000000     59.000000   59.000000     59.0\n",
       "mean    40.389831  25837.608814   14.186441      3.0\n",
       "std     30.572704  19992.315417   51.308558      0.0\n",
       "min      1.000000    856.980000    0.000000      3.0\n",
       "25%     26.500000  11191.620000    1.000000      3.0\n",
       "50%     31.000000  17501.540000    3.000000      3.0\n",
       "75%     44.500000  35797.575000    7.500000      3.0\n",
       "max    202.000000  85922.000000  325.000000      3.0"
      ]
     },
     "execution_count": 28,
     "metadata": {},
     "output_type": "execute_result"
    }
   ],
   "source": [
    "# what does group 3 look like\n",
    "\n",
    "results[results.cluster == 3].describe()\n",
    "\n",
    "# similar behaviour to smallest group. Might just be three pure clusters.\n"
   ]
  },
  {
   "cell_type": "code",
   "execution_count": 29,
   "id": "0f13ef3f",
   "metadata": {},
   "outputs": [
    {
     "data": {
      "image/png": "[encoded data removed]",
      "text/plain": [
       "<Figure size 864x1440 with 4 Axes>"
      ]
     },
     "metadata": {
      "needs_background": "light"
     },
     "output_type": "display_data"
    }
   ],
   "source": [
    "# recency plots\n",
    "\n",
    "clusters = results[\"cluster\"].unique() \n",
    "\n",
    "x = 1\n",
    "plt.figure(figsize=(12, 20))\n",
    "for x, c in enumerate(clusters):\n",
    "    ax = plt.subplot(4, 2, x + 1)\n",
    "    plt.title(f'Cluster {c} Recency')\n",
    "    sns.violinplot(x=results[results[\"cluster\"] == c].Recency);\n"
   ]
  },
  {
   "cell_type": "code",
   "execution_count": 30,
   "id": "011c0efd",
   "metadata": {},
   "outputs": [
    {
     "data": {
      "image/png": "[encoded data removed]",
      "text/plain": [
       "<Figure size 864x1440 with 4 Axes>"
      ]
     },
     "metadata": {
      "needs_background": "light"
     },
     "output_type": "display_data"
    }
   ],
   "source": [
    "clusters = results[\"cluster\"].unique() \n",
    "\n",
    "x = 1\n",
    "plt.figure(figsize=(12, 20))\n",
    "for x, c in enumerate(clusters):\n",
    "    ax = plt.subplot(4, 2, x + 1)\n",
    "    plt.title(f'Cluster {c} Frequency')\n",
    "    sns.violinplot(x=results[results[\"cluster\"] == c].Frequency);\n"
   ]
  },
  {
   "cell_type": "code",
   "execution_count": 31,
   "id": "09d9625f",
   "metadata": {},
   "outputs": [
    {
     "data": {
      "image/png": "[encoded data removed]",
      "text/plain": [
       "<Figure size 864x1440 with 4 Axes>"
      ]
     },
     "metadata": {
      "needs_background": "light"
     },
     "output_type": "display_data"
    }
   ],
   "source": [
    "clusters = results[\"cluster\"].unique() \n",
    "\n",
    "x = 1\n",
    "plt.figure(figsize=(12, 20))\n",
    "for x, c in enumerate(clusters):\n",
    "    ax = plt.subplot(4, 2, x + 1)\n",
    "    plt.title(f'Cluster {c} Monetary')\n",
    "    sns.violinplot(x=results[results[\"cluster\"] == c].Monetary);\n"
   ]
  },
  {
   "cell_type": "code",
   "execution_count": null,
   "id": "eb177b65",
   "metadata": {},
   "outputs": [],
   "source": [
    "# Smallest group the most valuable group. \n",
    "# We may want to take the customers identified in largest cluster, and cluster again to find smaller clusters.\n",
    "# Each group varies according to R, F and M. \n",
    "# Need to come up with different strategies for different groups."
   ]
  },
  {
   "cell_type": "code",
   "execution_count": 21,
   "id": "3ba3221d",
   "metadata": {},
   "outputs": [],
   "source": [
    "from sklearn.decomposition import PCA\n",
    "\n",
    "\n",
    "def visualize(y_kmeans, data_scaled, n_clusters):\n",
    "    \"\"\"\n",
    "       Visualize the users with predicted clusters.\n",
    "        \n",
    "       Run PCA on the transposed data and reduce the dimnensions in pca_num_components dimensions\n",
    "        \n",
    "     \"\"\"\n",
    "        \n",
    "    reduced_data = PCA(n_components = 2).fit_transform(data_scaled)\n",
    "    results = pd.DataFrame(reduced_data, columns = ['pca1','pca2'])\n",
    "    results = pd.concat([results, pd.DataFrame(y_kmeans)], axis = 1).rename(columns={0 : \"cluster\"})\n",
    "\n",
    "    cmap = sns.color_palette(\"Set1\", n_colors = n_clusters, desat = .5)\n",
    "\n",
    "    sns.scatterplot(x = 'pca1', y = 'pca2', hue = 'cluster', data = results, palette = cmap, legend = True)\n",
    "    plt.title('K-means Clustering with 2 dimensions')\n",
    "    plt.show();\n",
    "        "
   ]
  },
  {
   "cell_type": "code",
   "execution_count": 22,
   "id": "3227164b",
   "metadata": {
    "scrolled": true
   },
   "outputs": [
    {
     "data": {
      "image/png": "[encoded data removed]",
      "text/plain": [
       "<Figure size 432x288 with 1 Axes>"
      ]
     },
     "metadata": {
      "needs_background": "light"
     },
     "output_type": "display_data"
    }
   ],
   "source": [
    "# visualising the pattern of the clusters\n",
    "# only for visualisation purposes\n",
    "\n",
    "visualize(y_kmeans, UK_customers_scaled, n_clusters=n_clusters)\n",
    "\n",
    "# the clusters more spread out have more variability"
   ]
  }
 ],
 "metadata": {
  "kernelspec": {
   "display_name": "Python 3",
   "language": "python",
   "name": "python3"
  },
  "language_info": {
   "codemirror_mode": {
    "name": "ipython",
    "version": 3
   },
   "file_extension": ".py",
   "mimetype": "text/x-python",
   "name": "python",
   "nbconvert_exporter": "python",
   "pygments_lexer": "ipython3",
   "version": "3.8.10"
  }
 },
 "nbformat": 4,
 "nbformat_minor": 5
}
